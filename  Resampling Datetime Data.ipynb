{
 "cells": [
  {
   "cell_type": "markdown",
   "id": "3152bd6a",
   "metadata": {},
   "source": [
    "Part 1 Load the data and make a datetime index"
   ]
  },
  {
   "cell_type": "code",
   "execution_count": 1,
   "id": "d7ea69c5",
   "metadata": {},
   "outputs": [
    {
     "data": {
      "text/html": [
       "<div>\n",
       "<style scoped>\n",
       "    .dataframe tbody tr th:only-of-type {\n",
       "        vertical-align: middle;\n",
       "    }\n",
       "\n",
       "    .dataframe tbody tr th {\n",
       "        vertical-align: top;\n",
       "    }\n",
       "\n",
       "    .dataframe thead th {\n",
       "        text-align: right;\n",
       "    }\n",
       "</style>\n",
       "<table border=\"1\" class=\"dataframe\">\n",
       "  <thead>\n",
       "    <tr style=\"text-align: right;\">\n",
       "      <th></th>\n",
       "      <th>date</th>\n",
       "      <th>cloud_cover</th>\n",
       "      <th>sunshine</th>\n",
       "      <th>global_radiation</th>\n",
       "      <th>max_temp</th>\n",
       "      <th>mean_temp</th>\n",
       "      <th>min_temp</th>\n",
       "      <th>precipitation</th>\n",
       "      <th>pressure</th>\n",
       "      <th>snow_depth</th>\n",
       "    </tr>\n",
       "  </thead>\n",
       "  <tbody>\n",
       "    <tr>\n",
       "      <th>0</th>\n",
       "      <td>19790101</td>\n",
       "      <td>2.0</td>\n",
       "      <td>7.0</td>\n",
       "      <td>52.0</td>\n",
       "      <td>2.3</td>\n",
       "      <td>-4.1</td>\n",
       "      <td>-7.5</td>\n",
       "      <td>0.4</td>\n",
       "      <td>101900.0</td>\n",
       "      <td>9.0</td>\n",
       "    </tr>\n",
       "    <tr>\n",
       "      <th>1</th>\n",
       "      <td>19790102</td>\n",
       "      <td>6.0</td>\n",
       "      <td>1.7</td>\n",
       "      <td>27.0</td>\n",
       "      <td>1.6</td>\n",
       "      <td>-2.6</td>\n",
       "      <td>-7.5</td>\n",
       "      <td>0.0</td>\n",
       "      <td>102530.0</td>\n",
       "      <td>8.0</td>\n",
       "    </tr>\n",
       "    <tr>\n",
       "      <th>2</th>\n",
       "      <td>19790103</td>\n",
       "      <td>5.0</td>\n",
       "      <td>0.0</td>\n",
       "      <td>13.0</td>\n",
       "      <td>1.3</td>\n",
       "      <td>-2.8</td>\n",
       "      <td>-7.2</td>\n",
       "      <td>0.0</td>\n",
       "      <td>102050.0</td>\n",
       "      <td>4.0</td>\n",
       "    </tr>\n",
       "    <tr>\n",
       "      <th>3</th>\n",
       "      <td>19790104</td>\n",
       "      <td>8.0</td>\n",
       "      <td>0.0</td>\n",
       "      <td>13.0</td>\n",
       "      <td>-0.3</td>\n",
       "      <td>-2.6</td>\n",
       "      <td>-6.5</td>\n",
       "      <td>0.0</td>\n",
       "      <td>100840.0</td>\n",
       "      <td>2.0</td>\n",
       "    </tr>\n",
       "    <tr>\n",
       "      <th>4</th>\n",
       "      <td>19790105</td>\n",
       "      <td>6.0</td>\n",
       "      <td>2.0</td>\n",
       "      <td>29.0</td>\n",
       "      <td>5.6</td>\n",
       "      <td>-0.8</td>\n",
       "      <td>-1.4</td>\n",
       "      <td>0.0</td>\n",
       "      <td>102250.0</td>\n",
       "      <td>1.0</td>\n",
       "    </tr>\n",
       "  </tbody>\n",
       "</table>\n",
       "</div>"
      ],
      "text/plain": [
       "       date  cloud_cover  sunshine  global_radiation  max_temp  mean_temp  \\\n",
       "0  19790101          2.0       7.0              52.0       2.3       -4.1   \n",
       "1  19790102          6.0       1.7              27.0       1.6       -2.6   \n",
       "2  19790103          5.0       0.0              13.0       1.3       -2.8   \n",
       "3  19790104          8.0       0.0              13.0      -0.3       -2.6   \n",
       "4  19790105          6.0       2.0              29.0       5.6       -0.8   \n",
       "\n",
       "   min_temp  precipitation  pressure  snow_depth  \n",
       "0      -7.5            0.4  101900.0         9.0  \n",
       "1      -7.5            0.0  102530.0         8.0  \n",
       "2      -7.2            0.0  102050.0         4.0  \n",
       "3      -6.5            0.0  100840.0         2.0  \n",
       "4      -1.4            0.0  102250.0         1.0  "
      ]
     },
     "execution_count": 1,
     "metadata": {},
     "output_type": "execute_result"
    }
   ],
   "source": [
    "import pandas as pd\n",
    "import datetime as dt\n",
    "# Load the data\n",
    "file_path = r'C:\\Users\\James\\OneDrive\\Desktop\\london_weather.csv'\n",
    "df = pd.read_csv(file_path)\n",
    "\n",
    "df.head(5)"
   ]
  },
  {
   "cell_type": "code",
   "execution_count": 2,
   "id": "582c8161",
   "metadata": {},
   "outputs": [
    {
     "name": "stdout",
     "output_type": "stream",
     "text": [
      "<class 'pandas.core.frame.DataFrame'>\n",
      "RangeIndex: 15341 entries, 0 to 15340\n",
      "Data columns (total 10 columns):\n",
      " #   Column            Non-Null Count  Dtype  \n",
      "---  ------            --------------  -----  \n",
      " 0   date              15341 non-null  int64  \n",
      " 1   cloud_cover       15322 non-null  float64\n",
      " 2   sunshine          15341 non-null  float64\n",
      " 3   global_radiation  15322 non-null  float64\n",
      " 4   max_temp          15335 non-null  float64\n",
      " 5   mean_temp         15305 non-null  float64\n",
      " 6   min_temp          15339 non-null  float64\n",
      " 7   precipitation     15335 non-null  float64\n",
      " 8   pressure          15337 non-null  float64\n",
      " 9   snow_depth        13900 non-null  float64\n",
      "dtypes: float64(9), int64(1)\n",
      "memory usage: 1.2 MB\n"
     ]
    }
   ],
   "source": [
    "df.info()"
   ]
  },
  {
   "cell_type": "code",
   "execution_count": 3,
   "id": "5a7e536f",
   "metadata": {},
   "outputs": [
    {
     "data": {
      "text/plain": [
       "RangeIndex(start=0, stop=15341, step=1)"
      ]
     },
     "execution_count": 3,
     "metadata": {},
     "output_type": "execute_result"
    }
   ],
   "source": [
    "df.index"
   ]
  },
  {
   "cell_type": "code",
   "execution_count": 4,
   "id": "3ac7d14c",
   "metadata": {},
   "outputs": [
    {
     "data": {
      "text/plain": [
       "date                20201231.0\n",
       "cloud_cover                7.0\n",
       "sunshine                   1.3\n",
       "global_radiation          34.0\n",
       "max_temp                   1.5\n",
       "mean_temp                 -0.8\n",
       "min_temp                  -3.1\n",
       "precipitation              0.0\n",
       "pressure              100500.0\n",
       "snow_depth                 NaN\n",
       "Name: 15340, dtype: float64"
      ]
     },
     "execution_count": 4,
     "metadata": {},
     "output_type": "execute_result"
    }
   ],
   "source": [
    "df.loc[15340]"
   ]
  },
  {
   "cell_type": "code",
   "execution_count": null,
   "id": "50273e43",
   "metadata": {},
   "outputs": [],
   "source": []
  },
  {
   "cell_type": "code",
   "execution_count": null,
   "id": "1134be7d",
   "metadata": {},
   "outputs": [],
   "source": []
  },
  {
   "cell_type": "code",
   "execution_count": 5,
   "id": "1fddea34",
   "metadata": {},
   "outputs": [],
   "source": [
    "# Convert the date column to datetime dtype\n",
    "df['date'] = pd.to_datetime(df['date'], format='%Y%m%d')"
   ]
  },
  {
   "cell_type": "code",
   "execution_count": 6,
   "id": "575fab20",
   "metadata": {},
   "outputs": [
    {
     "data": {
      "text/plain": [
       "DatetimeIndex(['1979-01-01', '1979-01-02', '1979-01-03', '1979-01-04',\n",
       "               '1979-01-05', '1979-01-06', '1979-01-07', '1979-01-08',\n",
       "               '1979-01-09', '1979-01-10',\n",
       "               ...\n",
       "               '2020-12-22', '2020-12-23', '2020-12-24', '2020-12-25',\n",
       "               '2020-12-26', '2020-12-27', '2020-12-28', '2020-12-29',\n",
       "               '2020-12-30', '2020-12-31'],\n",
       "              dtype='datetime64[ns]', name='date', length=15341, freq=None)"
      ]
     },
     "execution_count": 6,
     "metadata": {},
     "output_type": "execute_result"
    }
   ],
   "source": [
    "# Set the date column as the index\n",
    "df.set_index('date', inplace=True)\n",
    "df.index"
   ]
  },
  {
   "cell_type": "code",
   "execution_count": 7,
   "id": "0dfddad3",
   "metadata": {},
   "outputs": [
    {
     "data": {
      "text/html": [
       "<div>\n",
       "<style scoped>\n",
       "    .dataframe tbody tr th:only-of-type {\n",
       "        vertical-align: middle;\n",
       "    }\n",
       "\n",
       "    .dataframe tbody tr th {\n",
       "        vertical-align: top;\n",
       "    }\n",
       "\n",
       "    .dataframe thead th {\n",
       "        text-align: right;\n",
       "    }\n",
       "</style>\n",
       "<table border=\"1\" class=\"dataframe\">\n",
       "  <thead>\n",
       "    <tr style=\"text-align: right;\">\n",
       "      <th></th>\n",
       "      <th>cloud_cover</th>\n",
       "      <th>sunshine</th>\n",
       "      <th>global_radiation</th>\n",
       "      <th>max_temp</th>\n",
       "      <th>mean_temp</th>\n",
       "      <th>min_temp</th>\n",
       "      <th>precipitation</th>\n",
       "      <th>pressure</th>\n",
       "      <th>snow_depth</th>\n",
       "    </tr>\n",
       "    <tr>\n",
       "      <th>date</th>\n",
       "      <th></th>\n",
       "      <th></th>\n",
       "      <th></th>\n",
       "      <th></th>\n",
       "      <th></th>\n",
       "      <th></th>\n",
       "      <th></th>\n",
       "      <th></th>\n",
       "      <th></th>\n",
       "    </tr>\n",
       "  </thead>\n",
       "  <tbody>\n",
       "    <tr>\n",
       "      <th>1979-01-01</th>\n",
       "      <td>2.0</td>\n",
       "      <td>7.0</td>\n",
       "      <td>52.0</td>\n",
       "      <td>2.3</td>\n",
       "      <td>-4.1</td>\n",
       "      <td>-7.5</td>\n",
       "      <td>0.4</td>\n",
       "      <td>101900.0</td>\n",
       "      <td>9.0</td>\n",
       "    </tr>\n",
       "  </tbody>\n",
       "</table>\n",
       "</div>"
      ],
      "text/plain": [
       "            cloud_cover  sunshine  global_radiation  max_temp  mean_temp  \\\n",
       "date                                                                       \n",
       "1979-01-01          2.0       7.0              52.0       2.3       -4.1   \n",
       "\n",
       "            min_temp  precipitation  pressure  snow_depth  \n",
       "date                                                       \n",
       "1979-01-01      -7.5            0.4  101900.0         9.0  "
      ]
     },
     "execution_count": 7,
     "metadata": {},
     "output_type": "execute_result"
    }
   ],
   "source": [
    "df.head(1)"
   ]
  },
  {
   "cell_type": "code",
   "execution_count": 8,
   "id": "40342ad4",
   "metadata": {},
   "outputs": [
    {
     "name": "stdout",
     "output_type": "stream",
     "text": [
      "<class 'pandas.core.frame.DataFrame'>\n",
      "DatetimeIndex: 7671 entries, 2000-01-01 to 2020-12-31\n",
      "Data columns (total 5 columns):\n",
      " #   Column         Non-Null Count  Dtype  \n",
      "---  ------         --------------  -----  \n",
      " 0   precipitation  7671 non-null   float64\n",
      " 1   mean_temp      7671 non-null   float64\n",
      " 2   min_temp       7671 non-null   float64\n",
      " 3   max_temp       7671 non-null   float64\n",
      " 4   snow_depth     7671 non-null   float64\n",
      "dtypes: float64(5)\n",
      "memory usage: 359.6 KB\n"
     ]
    }
   ],
   "source": [
    "# Filter out only the required data\n",
    "df = df.loc['2000':, ['precipitation', 'mean_temp', 'min_temp', 'max_temp', 'snow_depth',]]\n",
    "\n",
    "df['precipitation'].fillna(0, inplace=True)\n",
    "df['snow_depth'].fillna(0, inplace=True)\n",
    "df.fillna(method='ffill', inplace=True) \n",
    "\n",
    "df.info()"
   ]
  },
  {
   "cell_type": "code",
   "execution_count": 9,
   "id": "50cc1b29",
   "metadata": {},
   "outputs": [
    {
     "data": {
      "text/html": [
       "<div>\n",
       "<style scoped>\n",
       "    .dataframe tbody tr th:only-of-type {\n",
       "        vertical-align: middle;\n",
       "    }\n",
       "\n",
       "    .dataframe tbody tr th {\n",
       "        vertical-align: top;\n",
       "    }\n",
       "\n",
       "    .dataframe thead th {\n",
       "        text-align: right;\n",
       "    }\n",
       "</style>\n",
       "<table border=\"1\" class=\"dataframe\">\n",
       "  <thead>\n",
       "    <tr style=\"text-align: right;\">\n",
       "      <th></th>\n",
       "      <th>precipitation</th>\n",
       "      <th>mean_temp</th>\n",
       "      <th>min_temp</th>\n",
       "      <th>max_temp</th>\n",
       "      <th>snow_depth</th>\n",
       "    </tr>\n",
       "    <tr>\n",
       "      <th>date</th>\n",
       "      <th></th>\n",
       "      <th></th>\n",
       "      <th></th>\n",
       "      <th></th>\n",
       "      <th></th>\n",
       "    </tr>\n",
       "  </thead>\n",
       "  <tbody>\n",
       "    <tr>\n",
       "      <th>2000-01-01</th>\n",
       "      <td>0.0</td>\n",
       "      <td>7.0</td>\n",
       "      <td>4.9</td>\n",
       "      <td>10.8</td>\n",
       "      <td>0.0</td>\n",
       "    </tr>\n",
       "    <tr>\n",
       "      <th>2000-01-02</th>\n",
       "      <td>0.2</td>\n",
       "      <td>7.9</td>\n",
       "      <td>5.0</td>\n",
       "      <td>11.5</td>\n",
       "      <td>0.0</td>\n",
       "    </tr>\n",
       "    <tr>\n",
       "      <th>2000-01-03</th>\n",
       "      <td>6.0</td>\n",
       "      <td>9.4</td>\n",
       "      <td>7.2</td>\n",
       "      <td>9.5</td>\n",
       "      <td>0.0</td>\n",
       "    </tr>\n",
       "    <tr>\n",
       "      <th>2000-01-04</th>\n",
       "      <td>0.2</td>\n",
       "      <td>7.0</td>\n",
       "      <td>4.4</td>\n",
       "      <td>11.0</td>\n",
       "      <td>0.0</td>\n",
       "    </tr>\n",
       "    <tr>\n",
       "      <th>2000-01-05</th>\n",
       "      <td>0.8</td>\n",
       "      <td>6.4</td>\n",
       "      <td>1.9</td>\n",
       "      <td>10.8</td>\n",
       "      <td>0.0</td>\n",
       "    </tr>\n",
       "    <tr>\n",
       "      <th>2000-01-06</th>\n",
       "      <td>0.0</td>\n",
       "      <td>8.9</td>\n",
       "      <td>7.0</td>\n",
       "      <td>11.0</td>\n",
       "      <td>0.0</td>\n",
       "    </tr>\n",
       "    <tr>\n",
       "      <th>2000-01-07</th>\n",
       "      <td>2.0</td>\n",
       "      <td>7.2</td>\n",
       "      <td>3.4</td>\n",
       "      <td>9.2</td>\n",
       "      <td>0.0</td>\n",
       "    </tr>\n",
       "    <tr>\n",
       "      <th>2000-01-08</th>\n",
       "      <td>0.0</td>\n",
       "      <td>7.4</td>\n",
       "      <td>5.7</td>\n",
       "      <td>7.2</td>\n",
       "      <td>0.0</td>\n",
       "    </tr>\n",
       "    <tr>\n",
       "      <th>2000-01-09</th>\n",
       "      <td>0.2</td>\n",
       "      <td>3.2</td>\n",
       "      <td>-0.7</td>\n",
       "      <td>7.8</td>\n",
       "      <td>0.0</td>\n",
       "    </tr>\n",
       "    <tr>\n",
       "      <th>2000-01-10</th>\n",
       "      <td>0.0</td>\n",
       "      <td>2.2</td>\n",
       "      <td>-3.3</td>\n",
       "      <td>10.2</td>\n",
       "      <td>0.0</td>\n",
       "    </tr>\n",
       "    <tr>\n",
       "      <th>2000-01-11</th>\n",
       "      <td>0.0</td>\n",
       "      <td>5.4</td>\n",
       "      <td>0.6</td>\n",
       "      <td>8.2</td>\n",
       "      <td>0.0</td>\n",
       "    </tr>\n",
       "    <tr>\n",
       "      <th>2000-01-12</th>\n",
       "      <td>2.8</td>\n",
       "      <td>8.0</td>\n",
       "      <td>7.8</td>\n",
       "      <td>5.0</td>\n",
       "      <td>0.0</td>\n",
       "    </tr>\n",
       "    <tr>\n",
       "      <th>2000-01-13</th>\n",
       "      <td>0.2</td>\n",
       "      <td>3.8</td>\n",
       "      <td>2.7</td>\n",
       "      <td>6.3</td>\n",
       "      <td>0.0</td>\n",
       "    </tr>\n",
       "    <tr>\n",
       "      <th>2000-01-14</th>\n",
       "      <td>0.3</td>\n",
       "      <td>2.9</td>\n",
       "      <td>-0.5</td>\n",
       "      <td>6.7</td>\n",
       "      <td>0.0</td>\n",
       "    </tr>\n",
       "    <tr>\n",
       "      <th>2000-01-15</th>\n",
       "      <td>0.0</td>\n",
       "      <td>4.6</td>\n",
       "      <td>2.6</td>\n",
       "      <td>7.2</td>\n",
       "      <td>0.0</td>\n",
       "    </tr>\n",
       "    <tr>\n",
       "      <th>2000-01-16</th>\n",
       "      <td>0.0</td>\n",
       "      <td>4.7</td>\n",
       "      <td>2.2</td>\n",
       "      <td>8.6</td>\n",
       "      <td>0.0</td>\n",
       "    </tr>\n",
       "    <tr>\n",
       "      <th>2000-01-17</th>\n",
       "      <td>0.0</td>\n",
       "      <td>4.4</td>\n",
       "      <td>0.3</td>\n",
       "      <td>8.4</td>\n",
       "      <td>0.0</td>\n",
       "    </tr>\n",
       "    <tr>\n",
       "      <th>2000-01-18</th>\n",
       "      <td>0.2</td>\n",
       "      <td>4.8</td>\n",
       "      <td>1.2</td>\n",
       "      <td>7.3</td>\n",
       "      <td>0.0</td>\n",
       "    </tr>\n",
       "    <tr>\n",
       "      <th>2000-01-19</th>\n",
       "      <td>0.0</td>\n",
       "      <td>5.4</td>\n",
       "      <td>3.6</td>\n",
       "      <td>5.3</td>\n",
       "      <td>0.0</td>\n",
       "    </tr>\n",
       "    <tr>\n",
       "      <th>2000-01-20</th>\n",
       "      <td>0.0</td>\n",
       "      <td>1.6</td>\n",
       "      <td>-2.2</td>\n",
       "      <td>9.2</td>\n",
       "      <td>0.0</td>\n",
       "    </tr>\n",
       "  </tbody>\n",
       "</table>\n",
       "</div>"
      ],
      "text/plain": [
       "            precipitation  mean_temp  min_temp  max_temp  snow_depth\n",
       "date                                                                \n",
       "2000-01-01            0.0        7.0       4.9      10.8         0.0\n",
       "2000-01-02            0.2        7.9       5.0      11.5         0.0\n",
       "2000-01-03            6.0        9.4       7.2       9.5         0.0\n",
       "2000-01-04            0.2        7.0       4.4      11.0         0.0\n",
       "2000-01-05            0.8        6.4       1.9      10.8         0.0\n",
       "2000-01-06            0.0        8.9       7.0      11.0         0.0\n",
       "2000-01-07            2.0        7.2       3.4       9.2         0.0\n",
       "2000-01-08            0.0        7.4       5.7       7.2         0.0\n",
       "2000-01-09            0.2        3.2      -0.7       7.8         0.0\n",
       "2000-01-10            0.0        2.2      -3.3      10.2         0.0\n",
       "2000-01-11            0.0        5.4       0.6       8.2         0.0\n",
       "2000-01-12            2.8        8.0       7.8       5.0         0.0\n",
       "2000-01-13            0.2        3.8       2.7       6.3         0.0\n",
       "2000-01-14            0.3        2.9      -0.5       6.7         0.0\n",
       "2000-01-15            0.0        4.6       2.6       7.2         0.0\n",
       "2000-01-16            0.0        4.7       2.2       8.6         0.0\n",
       "2000-01-17            0.0        4.4       0.3       8.4         0.0\n",
       "2000-01-18            0.2        4.8       1.2       7.3         0.0\n",
       "2000-01-19            0.0        5.4       3.6       5.3         0.0\n",
       "2000-01-20            0.0        1.6      -2.2       9.2         0.0"
      ]
     },
     "execution_count": 9,
     "metadata": {},
     "output_type": "execute_result"
    }
   ],
   "source": [
    "df.head(20)"
   ]
  },
  {
   "cell_type": "markdown",
   "id": "1fbb30bc",
   "metadata": {},
   "source": [
    "Part 2 Q1: What month had the most precipitation between 2000 through 2010? \n",
    "Jan 2014 and 162.4 inches"
   ]
  },
  {
   "cell_type": "code",
   "execution_count": 10,
   "id": "756b23f5",
   "metadata": {},
   "outputs": [
    {
     "data": {
      "image/png": "[encoded data removed]",
      "text/plain": [
       "<Figure size 1200x300 with 1 Axes>"
      ]
     },
     "metadata": {},
     "output_type": "display_data"
    }
   ],
   "source": [
    "import matplotlib.pyplot as plt\n",
    "import matplotlib.dates as mdates\n",
    "\n",
    "# Resample the precipitation column to a Monthly frequency using .sum() as the aggregation method\n",
    "precipitation_monthly = df['precipitation'].resample('M').sum()\n",
    "precipitation_monthly = precipitation_monthly.loc['2000':'2010']\n",
    "\n",
    "# Find the date and corresponding value for the max precipitation\n",
    "max_precipitation_date = precipitation_monthly.idxmax()\n",
    "max_precipitation_value = precipitation_monthly.max()\n",
    "\n",
    "# Plot the feature and time period\n",
    "fig, ax = plt.subplots(figsize=(12, 3))\n",
    "ax.axvline(max_precipitation_date, color='red', linestyle='--', \n",
    "           label=f'Max Precipitation\\n({max_precipitation_date.strftime(\"%B %Y\")}, {max_precipitation_value} inches)')\n",
    "\n",
    "# Visualization Requirements\n",
    "ax.set_title('Precipitation for 2000-2010')\n",
    "ax.set_ylabel('Inches')\n",
    "\n",
    "# Set major ticks every year and minor ticks every month\n",
    "ax.xaxis.set_major_locator(mdates.YearLocator(1))\n",
    "ax.xaxis.set_major_formatter(mdates.DateFormatter('%Y'))\n",
    "ax.xaxis.set_minor_locator(mdates.MonthLocator(interval=3))\n",
    "# ax.xaxis.set_minor_formatter(mdates.DateFormatter('%b')\n",
    "\n",
    "fig.autofmt_xdate(rotation=90)\n",
    "ax.legend()\n",
    "precipitation_monthly.plot(ax=ax, label='Monthly Precipitation')\n",
    "plt.show()\n"
   ]
  },
  {
   "cell_type": "code",
   "execution_count": 11,
   "id": "226ea86c",
   "metadata": {},
   "outputs": [
    {
     "data": {
      "text/plain": [
       "date\n",
       "2000-01-31     16.5\n",
       "2000-02-29     62.2\n",
       "2000-03-31     16.0\n",
       "2000-04-30     99.6\n",
       "2000-05-31     87.2\n",
       "2000-06-30     19.2\n",
       "2000-07-31     52.8\n",
       "2000-08-31     32.3\n",
       "2000-09-30    105.8\n",
       "2000-10-31    155.4\n",
       "Freq: M, Name: precipitation, dtype: float64"
      ]
     },
     "execution_count": 11,
     "metadata": {},
     "output_type": "execute_result"
    }
   ],
   "source": [
    "precipitation_monthly.head(10)"
   ]
  },
  {
   "cell_type": "code",
   "execution_count": 12,
   "id": "a403d73f",
   "metadata": {},
   "outputs": [
    {
     "data": {
      "text/plain": [
       "155.4"
      ]
     },
     "execution_count": 12,
     "metadata": {},
     "output_type": "execute_result"
    }
   ],
   "source": [
    "precipitation_monthly.max()"
   ]
  },
  {
   "cell_type": "markdown",
   "id": "de3d2d07",
   "metadata": {},
   "source": [
    "Which year between 2000-2020 had the coolest average temperature? 2010 at 10.6 degress"
   ]
  },
  {
   "cell_type": "code",
   "execution_count": 18,
   "id": "ecc39ea8",
   "metadata": {},
   "outputs": [
    {
     "data": {
      "image/png": "[encoded data removed]",
      "text/plain": [
       "<Figure size 1200x300 with 1 Axes>"
      ]
     },
     "metadata": {},
     "output_type": "display_data"
    }
   ],
   "source": [
    "# Resample the mean_temp data to a Yearly frequency using .mean() as the aggregation method\n",
    "mean_temp_yearly = df['mean_temp'].resample('Y').mean()\n",
    "mean_temp_yearly = mean_temp_yearly.loc['2000':'2020']\n",
    "\n",
    "# Determine the year and value for the lowest mean temp\n",
    "lowest_mean_temp_year = mean_temp_yearly.idxmin()\n",
    "lowest_mean_temp_value = mean_temp_yearly.min()\n",
    "\n",
    "# Plot the feature and time period\n",
    "fig, ax = plt.subplots(figsize=(12, 3))\n",
    "ax.axvline(lowest_mean_temp_year, color='blue', linestyle='--', label=f'Lowest Mean Temperature\\n({lowest_mean_temp_year.strftime(\"%Y\")}, {lowest_mean_temp_value} degrees)')\n",
    "\n",
    "# Visualization Requirements\n",
    "ax.set_title('Average Temperature')\n",
    "ax.set_ylabel('Degrees')\n",
    "# ax.xaxis.set_major_locator(plt.MaxNLocator(4))\n",
    "ax.xaxis.set_major_formatter(mdates.DateFormatter('%Y'))\n",
    "ax.xaxis.set_minor_locator(plt.MaxNLocator(1))\n",
    "ax.xaxis.set_minor_formatter(plt.NullFormatter())\n",
    "fig.autofmt_xdate(rotation=90)\n",
    "ax.legend()\n",
    "mean_temp_yearly.plot(ax=ax, label='Yearly Mean Temperature')\n",
    "plt.show()"
   ]
  }
 ],
 "metadata": {
  "kernelspec": {
   "display_name": "Python (dojo-env)",
   "language": "python",
   "name": "dojo-env"
  },
  "language_info": {
   "codemirror_mode": {
    "name": "ipython",
    "version": 3
   },
   "file_extension": ".py",
   "mimetype": "text/x-python",
   "name": "python",
   "nbconvert_exporter": "python",
   "pygments_lexer": "ipython3",
   "version": "3.11.5"
  }
 },
 "nbformat": 4,
 "nbformat_minor": 5
}
